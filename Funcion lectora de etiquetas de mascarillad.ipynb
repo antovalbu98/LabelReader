{
 "cells": [
  {
   "cell_type": "code",
   "execution_count": 1,
   "metadata": {},
   "outputs": [],
   "source": [
    "# import the necessary packages\n",
    "from PIL import Image\n",
    "import pytesseract as tess\n",
    "import cv2\n",
    "from skimage.io import imread\n",
    "import os\n",
    "import matplotlib.pyplot as plt\n",
    "import re\n",
    "from sklearn.feature_extraction.text import CountVectorizer\n",
    "import pandas as pd\n"
   ]
  },
  {
   "cell_type": "code",
   "execution_count": 2,
   "metadata": {},
   "outputs": [
    {
     "data": {
      "text/plain": [
       "CountVectorizer(binary=True, ngram_range=(1, 2))"
      ]
     },
     "execution_count": 2,
     "metadata": {},
     "output_type": "execute_result"
    }
   ],
   "source": [
    "palabras_clave = ['no reutilizable 4 horas 8 horas']\n",
    "\n",
    "vectorizer = CountVectorizer(binary = True, ngram_range = (1, 2))\n",
    "vectorizer.fit(palabras_clave)"
   ]
  },
  {
   "cell_type": "code",
   "execution_count": 22,
   "metadata": {},
   "outputs": [],
   "source": [
    "def lector(vectorizador, direccion_image):\n",
    "    \n",
    "    resultados = {\"Reut o no\" : None, \n",
    "                 \"Duracion\" : None,\n",
    "                 \"Certificados\" : None}\n",
    "\n",
    "    imagen = Image.open(direccion_image)\n",
    "\n",
    "    texto = tess.image_to_string(imagen)\n",
    "\n",
    "    texto = ' '.join(texto.split())\n",
    "\n",
    "    lista = []\n",
    "    lista.append(texto)\n",
    "\n",
    "    lista_vectorizada = vectorizador.transform(lista)\n",
    "    \n",
    "    if lista_vectorizada.toarray()[:, vectorizador.vocabulary_['no reutilizable']][0] == 1:\n",
    "        resultados[\"Reut o no\"] = \"No reutilizable\"\n",
    "    \n",
    "    elif lista_vectorizada.toarray()[:, vectorizador.vocabulary_['no reutilizable']][0] == 0:\n",
    "        resultados[\"Reut o no\"] = \"Reutilizable\"\n",
    "        \n",
    "    return resultados\n",
    "        \n",
    "        "
   ]
  },
  {
   "cell_type": "code",
   "execution_count": 10,
   "metadata": {},
   "outputs": [
    {
     "data": {
      "text/plain": [
       "0"
      ]
     },
     "execution_count": 10,
     "metadata": {},
     "output_type": "execute_result"
    }
   ],
   "source": []
  },
  {
   "cell_type": "code",
   "execution_count": 19,
   "metadata": {},
   "outputs": [
    {
     "data": {
      "text/plain": [
       "{'Reut o no': 'Reutilizable', 'Duracion': None, 'Certificados': None}"
      ]
     },
     "execution_count": 19,
     "metadata": {},
     "output_type": "execute_result"
    }
   ],
   "source": [
    "lector(vectorizer, direccion_image = 'Etiquetas/MASK reut.png')"
   ]
  },
  {
   "cell_type": "code",
   "execution_count": 20,
   "metadata": {},
   "outputs": [
    {
     "data": {
      "text/plain": [
       "{'Reut o no': 'No reutilizable', 'Duracion': None, 'Certificados': None}"
      ]
     },
     "execution_count": 20,
     "metadata": {},
     "output_type": "execute_result"
    }
   ],
   "source": [
    "lector(vectorizer, direccion_image = 'Etiquetas/Mercadona.png')"
   ]
  },
  {
   "cell_type": "code",
   "execution_count": null,
   "metadata": {},
   "outputs": [],
   "source": []
  }
 ],
 "metadata": {
  "kernelspec": {
   "display_name": "Python 3",
   "language": "python",
   "name": "python3"
  },
  "language_info": {
   "codemirror_mode": {
    "name": "ipython",
    "version": 3
   },
   "file_extension": ".py",
   "mimetype": "text/x-python",
   "name": "python",
   "nbconvert_exporter": "python",
   "pygments_lexer": "ipython3",
   "version": "3.8.3"
  },
  "varInspector": {
   "cols": {
    "lenName": 16,
    "lenType": 16,
    "lenVar": 40
   },
   "kernels_config": {
    "python": {
     "delete_cmd_postfix": "",
     "delete_cmd_prefix": "del ",
     "library": "var_list.py",
     "varRefreshCmd": "print(var_dic_list())"
    },
    "r": {
     "delete_cmd_postfix": ") ",
     "delete_cmd_prefix": "rm(",
     "library": "var_list.r",
     "varRefreshCmd": "cat(var_dic_list()) "
    }
   },
   "types_to_exclude": [
    "module",
    "function",
    "builtin_function_or_method",
    "instance",
    "_Feature"
   ],
   "window_display": false
  }
 },
 "nbformat": 4,
 "nbformat_minor": 4
}
